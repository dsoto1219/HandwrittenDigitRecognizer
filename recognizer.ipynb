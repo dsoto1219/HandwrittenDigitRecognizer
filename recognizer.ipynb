{
 "cells": [
  {
   "cell_type": "code",
   "execution_count": 16,
   "metadata": {},
   "outputs": [],
   "source": [
    "import numpy as np\n",
    "import warnings\n",
    "from scipy.special import expit # sigmoid function\n",
    "# For typing\n",
    "import numpy.typing as npt\n",
    "from collections.abc import Callable"
   ]
  },
  {
   "cell_type": "code",
   "execution_count": 38,
   "metadata": {},
   "outputs": [],
   "source": [
    "class Perceptron:\n",
    "    \"\"\"\n",
    "    (A.K.A. neuron) The most basic unit of the network. Each perceptron has an\n",
    "    activation that can either be initialized directly, or calculated given\n",
    "    a vector of activations (presumably from other perceptrons), a matrix of \n",
    "    weights, and a vector of biases as inputs.\n",
    "    \"\"\"\n",
    "    def __init__(self, \n",
    "                 activations: npt.ArrayLike=None, \n",
    "                 weights: npt.NDArray=None, # must be 2D\n",
    "                 biases: npt.ArrayLike=None, \n",
    "                 activation_function: Callable=expit,\n",
    "                 activation=None) -> None:\n",
    "        # If an activation is provided, set the perceptron's activation\n",
    "        if activation is not None:\n",
    "            self.activation = activation\n",
    "            if activations or weights or biases:\n",
    "                warnings.warn(\"Activation given. Inputted activations, weights, and biases given as input will be ignored.\")\n",
    "        # Otherwise, calculate as usual\n",
    "        elif activations and weights and biases and activation_function:\n",
    "            # Input validation\n",
    "            if weights.ndim != 2:\n",
    "                raise ValueError(\"Weights must be a 2D array.\")\n",
    "            if biases.ndim != 1:\n",
    "                raise ValueError(\"Biases must be a 1D array.\")\n",
    "            if activations.ndim != 1:\n",
    "                raise ValueError(\"Activations must be a 1D array.\")\n",
    "            if weights.shape[1] != activations.size or weights.shape[0] != biases.size:\n",
    "                raise ValueError(\"Shape mismatch: weights, activations, and biases dimensions are incompatible.\")\n",
    "            self.activation = activation_function(weights @ activations + biases)\n",
    "        else:\n",
    "            raise ValueError(\"No activation given, and activations, weights, biases are not given.\")\n",
    "        \n",
    "\n",
    "assert Perceptron(activation=0.1).activation == 0.1"
   ]
  },
  {
   "cell_type": "code",
   "execution_count": 22,
   "metadata": {},
   "outputs": [
    {
     "data": {
      "image/png": "[encoded data removed]",
      "text/plain": [
       "<Figure size 640x480 with 1 Axes>"
      ]
     },
     "metadata": {},
     "output_type": "display_data"
    }
   ],
   "source": [
    "# From https://stackoverflow.com/a/25079162/18031673\n",
    "import gzip\n",
    "import pickle\n",
    "import matplotlib.cm as cm\n",
    "import matplotlib.pyplot as plt\n",
    "\n",
    "\n",
    "# Load MNIST dataset\n",
    "with gzip.open('mnist.pkl.gz', 'rb') as f:\n",
    "    # This was likely encoded in Python2---to fix, using encoding 'latin1'\n",
    "    train_set, valid_set, test_set = pickle.load(f, encoding='latin1')\n",
    "\n",
    "# train_x: inputs (pictures of digits)\n",
    "# train_y: outputs (labels of digits)\n",
    "train_x, train_y = train_set\n",
    "\n",
    "\n",
    "# Show an example image\n",
    "plt.imshow(train_x[0].reshape((28, 28)), cmap=cm.Greys_r)\n",
    "plt.show()"
   ]
  }
 ],
 "metadata": {
  "kernelspec": {
   "display_name": "digit_recognizer",
   "language": "python",
   "name": "python3"
  },
  "language_info": {
   "codemirror_mode": {
    "name": "ipython",
    "version": 3
   },
   "file_extension": ".py",
   "mimetype": "text/x-python",
   "name": "python",
   "nbconvert_exporter": "python",
   "pygments_lexer": "ipython3",
   "version": "3.13.1"
  }
 },
 "nbformat": 4,
 "nbformat_minor": 2
}
