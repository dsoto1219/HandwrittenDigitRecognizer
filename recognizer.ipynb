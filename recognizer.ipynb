{
 "cells": [
  {
   "cell_type": "markdown",
   "metadata": {},
   "source": [
    "This is a Jupyter notebook showing my progression in understanding 3Blue1Brown's [neural network series](https://www.youtube.com/watch?v=aircAruvnKk&list=PLZHQObOWTQDNU6R1_67000Dx_ZCJB-3pi). I'm beginning by starting with the \"Hello World\" of neural networks, that being a network that can take in handwritten digits between 0 and 9 and tell you which digit it is."
   ]
  },
  {
   "cell_type": "code",
   "execution_count": 35,
   "metadata": {},
   "outputs": [],
   "source": [
    "# Start with the usual imports\n",
    "import numpy as np\n",
    "from scipy.special import expit # sigmoid function"
   ]
  },
  {
   "cell_type": "markdown",
   "metadata": {},
   "source": [
    "Here, I'm using the MNIST dataset, which contains over 50,000 different handwritten digits. The dataset comes from Michael Nielsen's [repository](https://github.com/mnielsen/neural-networks-and-deep-learning/tree/master/data) for his book on neural networks, [*Neural Networks and Deep Learning*](http://neuralnetworksanddeeplearning.com/) (free to read online).\n",
    "\n",
    "With this said, we of course start by loading the dataset."
   ]
  },
  {
   "cell_type": "code",
   "execution_count": 36,
   "metadata": {},
   "outputs": [
    {
     "data": {
      "image/png": "[encoded data removed]",
      "text/plain": [
       "<Figure size 640x480 with 1 Axes>"
      ]
     },
     "metadata": {},
     "output_type": "display_data"
    }
   ],
   "source": [
    "\"\"\"\n",
    "Most of this code was from https://stackoverflow.com/a/25079162/18031673.\n",
    "I tweaked it a bit for formatting, and added the encoding bit myself. \n",
    "\"\"\"\n",
    "import gzip\n",
    "import pickle\n",
    "import matplotlib.cm as cm\n",
    "import matplotlib.pyplot as plt\n",
    "\n",
    "\n",
    "# Load MNIST dataset\n",
    "with gzip.open('mnist.pkl.gz', 'rb') as f:\n",
    "    # This was likely encoded in Python2---to fix, using encoding 'latin1'\n",
    "    train_set, valid_set, test_set = pickle.load(f, encoding='latin1')\n",
    "# train_x: inputs (pictures of digits)\n",
    "# train_y: outputs (labels of digits)\n",
    "train_x, train_y = train_set\n",
    "\n",
    "\n",
    "# Show an example image (the first image in the training dataset)\n",
    "plt.imshow(train_x[0].reshape((28, 28)), cmap=cm.Greys_r)\n",
    "plt.show()"
   ]
  },
  {
   "cell_type": "markdown",
   "metadata": {},
   "source": [
    "With the dataset loaded, we can begin constructing the neural network. I use the following list of constant integers to represent the network's dimensions (which are, at this point, identical to the ones shown in 3Blue1Brown's video.)"
   ]
  },
  {
   "cell_type": "code",
   "execution_count": 37,
   "metadata": {},
   "outputs": [],
   "source": [
    "# Using the same shape as in 3Blue1Brown's Video\n",
    "LAYER_HEIGHTS = [\n",
    "    train_x.shape[1], # 784\n",
    "    16,\n",
    "    16,\n",
    "    10, # Number of digits in base 10\n",
    "]"
   ]
  },
  {
   "cell_type": "markdown",
   "metadata": {},
   "source": [
    "We then initialize the weight matrices, which we organize in a larger array that I name `weights`. Although there are 4 layers in the network, we need 3 weight matrices so that each pair of layers has their own weight matrix."
   ]
  },
  {
   "cell_type": "code",
   "execution_count": 38,
   "metadata": {},
   "outputs": [
    {
     "data": {
      "text/plain": [
       "array([array([[-0.50183952,  1.80285723,  0.92797577, ...,  0.17089777,\n",
       "               -0.99280376, -0.61721603],\n",
       "              [-1.27360913,  1.63380225,  0.33356718, ..., -0.30504699,\n",
       "                0.6701996 , -1.61785874],\n",
       "              [ 0.4954373 , -0.19292929,  0.34643385, ..., -1.95947526,\n",
       "                0.54438419,  1.65314779],\n",
       "              ...,\n",
       "              [-1.92571712,  1.55457068, -1.09239693, ...,  0.67344281,\n",
       "                0.96059757, -0.2074852 ],\n",
       "              [ 1.75010395,  0.94662694, -0.16830168, ...,  1.35648641,\n",
       "                1.63887325,  0.036981  ],\n",
       "              [ 0.77709899, -1.55279852,  0.26115584, ..., -0.29539381,\n",
       "                1.78337764, -1.12908386]])                             ,\n",
       "       array([[-0.97303359, -1.59644479,  0.4222811 ,  0.7194915 ,  0.57172483,\n",
       "                1.44452097, -0.05429666, -1.46217184, -0.84237948,  0.64971989,\n",
       "                0.45248789,  0.12401252,  0.73185767,  0.5495634 ,  1.52529956,\n",
       "                0.34406551],\n",
       "              [ 1.11440543, -1.00517138,  0.71273034,  1.60877647, -0.45707069,\n",
       "                1.11641675,  0.8991572 , -1.76189521,  0.32603324, -1.4792426 ,\n",
       "                1.86927669,  1.24563001, -1.5611048 , -1.51299201,  0.37789542,\n",
       "               -0.6204433 ],\n",
       "              [-1.86037656,  0.16656603, -0.4486196 , -1.59569403,  1.20768157,\n",
       "                1.66030706,  1.02637574,  1.28968924, -1.13403773, -0.9457082 ,\n",
       "               -1.16588984,  1.06025373,  1.79166832,  0.86734883,  1.52586706,\n",
       "                0.55479638],\n",
       "              [-0.4493604 , -0.29695354, -1.69871427, -1.87417122,  0.78190242,\n",
       "               -0.24628443,  0.20886027,  0.23064499, -0.89049675, -0.09642996,\n",
       "               -0.11695911, -0.44629112,  1.28270153, -0.19534399,  0.4145781 ,\n",
       "                1.58208048],\n",
       "              [ 1.46493449,  1.56168882, -0.91998001, -1.86007005, -0.9557328 ,\n",
       "               -0.88517062,  1.63744131,  0.59697093, -1.67318416, -1.45848562,\n",
       "               -1.3772955 ,  0.52168699,  0.9416561 ,  1.43857564,  1.7625462 ,\n",
       "               -1.19318177],\n",
       "              [-0.76091006, -1.03870848, -0.56495373,  1.65866043,  0.30045027,\n",
       "                0.95276759, -0.03952306, -1.88456835, -1.74321806,  0.15169213,\n",
       "                0.87515614, -1.13867789,  0.8876383 ,  1.24266309, -0.35241009,\n",
       "                0.98567693],\n",
       "              [-0.3838802 ,  0.71340252,  1.0559882 ,  1.96770647, -0.61841335,\n",
       "               -0.35583688, -1.33751976, -1.18370777,  0.77358001,  1.66818236,\n",
       "               -0.42158019, -1.28062221, -0.859602  , -0.17979318, -0.83739868,\n",
       "               -1.06568367],\n",
       "              [ 0.94393796, -1.96862032,  0.15692211,  1.17506723, -0.93508685,\n",
       "                0.41316604,  0.67560042,  0.62009879, -0.21660146, -0.61368805,\n",
       "                1.34369629,  1.03378383, -0.71497931, -1.58792322, -1.71276982,\n",
       "               -1.62289609],\n",
       "              [ 0.33147744, -1.7933513 , -0.6522925 ,  1.01279881, -0.82260733,\n",
       "                1.05323231,  0.98186815, -1.01669147,  0.91528872,  0.99110655,\n",
       "               -0.4101843 , -1.15831807,  0.08508323,  1.68559035,  0.55846693,\n",
       "               -1.30831001],\n",
       "              [ 0.7310277 , -0.29118789,  0.36611519,  0.93625614,  0.05978941,\n",
       "                1.2559359 ,  0.88862232,  0.46029336, -1.39682874,  1.34379644,\n",
       "                1.74362234, -1.4521395 , -0.04703548, -0.96444503,  1.01809323,\n",
       "                0.88651854],\n",
       "              [-1.43645952,  1.50810909, -1.27610774,  1.1890361 , -0.17207856,\n",
       "               -0.68691083, -1.36704295, -1.32954298,  0.64756222,  0.20172155,\n",
       "               -1.51165831, -1.54920856, -1.7107577 ,  0.97506939,  0.84752834,\n",
       "               -1.76627604],\n",
       "              [ 0.2410803 , -1.66129538,  1.61498308,  1.62846968,  0.79293196,\n",
       "                1.70475569,  1.24581212,  1.3141543 ,  0.2788314 , -0.77576321,\n",
       "               -1.12880354, -0.69119991,  0.51398172, -1.30937386, -0.96543905,\n",
       "               -0.12775655],\n",
       "              [-1.06779961,  0.35457468,  1.69270411,  0.99235746,  0.66570646,\n",
       "                0.3308859 , -0.04820836, -1.25374456,  1.57884182, -1.00585599,\n",
       "               -1.63476449,  1.00006072, -1.29753786, -0.512416  , -1.88686029,\n",
       "               -1.45172823],\n",
       "              [-1.30718548, -1.78235949,  0.62662783,  1.34803118, -0.50673837,\n",
       "                1.49830591, -1.1466137 , -0.69843831, -1.39705203,  0.48223678,\n",
       "               -0.32052164,  0.45313339,  1.04669962,  0.18281206,  0.51052142,\n",
       "                1.74100126],\n",
       "              [-0.80374276, -0.56334425,  0.87081345,  0.44522207, -1.28586838,\n",
       "               -0.49541076, -0.12864795, -0.32244065, -1.28690077,  1.69772037,\n",
       "                1.04927505, -0.07457667,  0.72024411,  1.58913069, -1.45530343,\n",
       "               -0.9985078 ],\n",
       "              [ 0.17080499,  1.19604149, -1.85498042,  1.9360726 , -0.18037359,\n",
       "               -0.56307544, -0.82910225, -1.30257317,  1.16629564,  1.82165666,\n",
       "               -0.34542098,  1.80968278,  1.29519046, -0.07579549,  0.69610472,\n",
       "               -0.26006328]])                                                  ,\n",
       "       array([[ 2.34893633e-01, -1.76781465e+00,  7.85053901e-01,\n",
       "               -1.78870142e+00,  1.26833979e+00,  1.29978772e+00,\n",
       "               -1.05169085e+00, -7.05348876e-01, -7.47584858e-02,\n",
       "                3.86651628e-01, -8.50585353e-01,  3.69945619e-01,\n",
       "               -8.08851707e-01, -1.77803712e+00, -1.98988980e+00,\n",
       "               -1.59539577e+00],\n",
       "              [ 1.16900280e+00,  1.84572525e+00, -2.92135203e-01,\n",
       "                5.07358138e-02, -1.41260732e+00,  2.04125411e-01,\n",
       "               -1.42138039e+00,  4.44857325e-01,  1.73303467e+00,\n",
       "               -1.21720584e+00,  1.05825487e+00, -1.90599031e+00,\n",
       "               -4.98011035e-01, -1.55700597e+00, -5.90098234e-01,\n",
       "               -1.30585232e+00],\n",
       "              [-5.06780040e-01, -3.29908776e-01, -7.97635509e-01,\n",
       "                6.26487798e-01,  1.67540821e+00, -3.97618504e-01,\n",
       "               -1.23062737e+00, -9.17108967e-01,  1.41600329e+00,\n",
       "                2.86558893e-01, -1.79955871e-01, -1.40145311e+00,\n",
       "               -2.01090767e-01, -8.86031987e-01,  1.77265251e+00,\n",
       "                1.53628044e+00],\n",
       "              [-1.66438983e+00,  6.66139570e-02, -1.09976662e+00,\n",
       "               -3.56891642e-01,  1.50739199e+00,  1.10058080e-01,\n",
       "               -6.63138827e-01, -1.16844658e+00,  1.20129944e+00,\n",
       "                4.98072061e-01, -1.27738158e-01, -1.13006258e+00,\n",
       "               -6.63014503e-01,  1.83937371e+00,  8.03597504e-02,\n",
       "               -3.97202875e-01],\n",
       "              [ 8.56881694e-02,  1.11595402e+00, -6.39564254e-01,\n",
       "               -1.28517552e+00,  3.39744473e-01,  6.60816414e-01,\n",
       "                8.50872012e-01,  1.52795036e+00, -5.15303517e-01,\n",
       "               -1.69858042e+00,  1.83339433e+00, -2.59952290e-01,\n",
       "                4.93030039e-01,  6.65221293e-01,  1.86054835e-01,\n",
       "               -1.17896988e+00],\n",
       "              [ 1.02057220e+00,  1.21500790e+00,  2.11902344e-01,\n",
       "               -4.57553577e-02, -1.54424727e+00, -1.66419335e+00,\n",
       "               -6.41740618e-01, -7.56615378e-01,  1.81462580e+00,\n",
       "                1.13449097e+00,  6.39697181e-01,  7.05923561e-02,\n",
       "               -1.33052988e+00,  1.91382669e+00, -4.99837207e-01,\n",
       "               -1.57229759e+00],\n",
       "              [-2.48044171e-02,  1.49599205e+00,  1.54916401e+00,\n",
       "               -1.95613634e+00,  1.54518298e+00, -9.14063130e-01,\n",
       "               -1.84411054e+00,  1.39116108e+00,  1.45546702e+00,\n",
       "                3.84924319e-01,  2.97735029e-01,  1.25248109e+00,\n",
       "                1.14523821e+00,  1.56042189e+00,  2.10989790e-01,\n",
       "                1.87058837e+00],\n",
       "              [ 1.98458732e+00, -1.53382156e+00,  1.39817504e+00,\n",
       "               -7.10969006e-04, -4.49734647e-01,  4.52289240e-01,\n",
       "               -1.77613777e+00,  2.58444751e-02,  1.48356228e+00,\n",
       "               -1.14615394e+00, -2.94440421e-01,  1.75792355e+00,\n",
       "               -2.85744649e-01, -5.66529471e-01, -2.37853408e-01,\n",
       "                7.78110661e-02],\n",
       "              [ 5.27965377e-01,  1.20277120e+00, -1.91591177e-01,\n",
       "                1.26992374e+00,  1.34882645e-01, -6.46077959e-01,\n",
       "                6.31803312e-01,  8.70889019e-01,  2.32195903e-01,\n",
       "               -1.77354011e+00, -1.32046850e+00, -8.58809116e-01,\n",
       "               -8.69497576e-01,  6.93683201e-01, -1.92660535e+00,\n",
       "                1.02272711e+00],\n",
       "              [-9.38630101e-01, -7.59912615e-01,  1.11639312e-01,\n",
       "               -1.13629760e+00,  1.53788525e+00, -1.65852488e+00,\n",
       "               -2.22470551e-01,  1.39768908e+00,  4.63375578e-01,\n",
       "               -8.30681937e-01, -3.16959169e-01,  8.26777521e-01,\n",
       "                1.89304297e+00,  1.57255487e+00, -6.30268766e-01,\n",
       "                1.99279152e+00]])                                ],\n",
       "      dtype=object)"
      ]
     },
     "execution_count": 38,
     "metadata": {},
     "output_type": "execute_result"
    }
   ],
   "source": [
    "# Initialize random -list of weight matrices\n",
    "weights = np.empty(len(LAYER_HEIGHTS) - 1, dtype=object)\n",
    "\n",
    "np.random.seed(42)\n",
    "for i in range(1, len(weights)+1):\n",
    "    weights[i-1] = np.random.uniform(-2, 2, (LAYER_HEIGHTS[i], LAYER_HEIGHTS[i-1]))\n",
    "weights"
   ]
  },
  {
   "cell_type": "markdown",
   "metadata": {},
   "source": [
    "Similiarly, we organize an array containing 3 bias vectors, one for each pair of layers."
   ]
  },
  {
   "cell_type": "code",
   "execution_count": 39,
   "metadata": {},
   "outputs": [
    {
     "data": {
      "text/plain": [
       "array([array([-1.98598135, -1.88948098,  1.29536206, -1.20214925, -1.75692293,\n",
       "              -1.05140771, -0.29559938,  0.92226508,  0.49734211, -1.04951513,\n",
       "               0.01308179,  1.70485642,  1.26003111, -0.70724086,  1.92905825,\n",
       "               0.8344816 ])                                                   ,\n",
       "       array([-1.75020258, -1.85935715, -1.3263682 ,  0.91142347, -1.2650443 ,\n",
       "               0.04594708, -1.62695952,  1.68354463, -0.62415755,  1.63252823,\n",
       "               1.77950257, -1.97548541, -0.14345925, -1.90137578,  1.63477107,\n",
       "               0.07363018])                                                   ,\n",
       "       array([-1.70022395, -1.55889309, -0.4659639 ,  1.76093677,  0.77163661,\n",
       "               1.47047546, -0.53417341, -1.8271452 ,  1.89727055, -1.93130804])],\n",
       "      dtype=object)"
      ]
     },
     "execution_count": 39,
     "metadata": {},
     "output_type": "execute_result"
    }
   ],
   "source": [
    "# Random biases\n",
    "biases = np.empty(len(LAYER_HEIGHTS) - 1, dtype=object)\n",
    "for i in range(len(biases)):\n",
    "    biases[i] = np.random.uniform(-2, 2, LAYER_HEIGHTS[i+1])\n",
    "biases"
   ]
  },
  {
   "cell_type": "markdown",
   "metadata": {},
   "source": [
    "Our activations for the first layer will be the \"flatted\" array of grayscale pixel values that represent a white digit drawn onto a black board. Let's start with a test run with a single arbitrarily chosen digit and see how well the network does with our randomly initialized weights and biases."
   ]
  },
  {
   "cell_type": "code",
   "execution_count": 40,
   "metadata": {},
   "outputs": [
    {
     "data": {
      "image/png": "[encoded data removed]",
      "text/plain": [
       "<Figure size 640x480 with 1 Axes>"
      ]
     },
     "metadata": {},
     "output_type": "display_data"
    }
   ],
   "source": [
    "test_index = 10000 # chose this index because I liked the way the number looked\n",
    "activations = np.empty(len(LAYER_HEIGHTS), dtype=object) # empty activations array to contain activations for all layers\n",
    "\n",
    "activations[0] = train_x[test_index]\n",
    "plt.imshow(activations[0].reshape((28, 28)), cmap=cm.Greys_r)\n",
    "plt.show()"
   ]
  },
  {
   "cell_type": "markdown",
   "metadata": {},
   "source": [
    "We calculate each layer's activation vector using the formula\n",
    "$$\n",
    "\\mathbf{a}^{(i)} = \\sigma\\left(\\mathbf{W}_{i-1}\\mathbf{a}^{(i-1)} + \\mathbf{b}_{i-1}\\right)\n",
    "$$\n",
    "Where $\\mathbf{a}^{(i)}$ is the activation vector, $\\mathbf{W}_{i-1}$ is the weight matrix, and $\\mathbf{b}_{i-1}$ is the bias vector, each indexed based on which layer they correspond to, for $i \\in \\{1, 2, 3\\}$. Moreover, $\\sigma$ is the sigmoid function. Although 3Blue1Brown mentioned that the ReLU function tends to be a better activation function, I want to stick to the sigmoid function for now since it seems like that's what he used in the video. Plus, I prefer the sigmoid function's output for now, since tells us the network's level of confidence with its answer, which I personally like.\n",
    "\n",
    "Continuing, we implement each activation vector's calculation as follows:"
   ]
  },
  {
   "cell_type": "code",
   "execution_count": 41,
   "metadata": {},
   "outputs": [
    {
     "data": {
      "text/plain": [
       "array([array([9.33231892e-01, 9.99625620e-01, 9.21778290e-03, 9.97926584e-01,\n",
       "              9.99738418e-01, 9.98369802e-01, 9.99565148e-01, 1.39248314e-01,\n",
       "              4.57126727e-02, 4.38513258e-06, 4.20900529e-05, 8.25153688e-01,\n",
       "              8.92942470e-04, 9.96614620e-01, 9.09691699e-01, 2.05859928e-02]),\n",
       "       array([0.55736516, 0.72381646, 0.93501558, 0.24846419, 0.9546275 ,\n",
       "              0.69358096, 0.02277593, 0.4202985 , 0.77087925, 0.98108154,\n",
       "              0.76277771, 0.35634925, 0.40917132, 0.05664381, 0.25729164,\n",
       "              0.9756615 ])                                               ,\n",
       "       array([0.03038738, 0.0884819 , 0.86890401, 0.76028722, 0.63023341,\n",
       "              0.74474981, 0.99944194, 0.40550893, 0.63899321, 0.4896489 ])],\n",
       "      dtype=object)"
      ]
     },
     "execution_count": 41,
     "metadata": {},
     "output_type": "execute_result"
    }
   ],
   "source": [
    "for i in range(1, len(activations)):\n",
    "    activations[i] = expit(weights[i-1] @ activations[i-1] + biases[i-1])\n",
    "# Not showing the first layer's activations, since we technically already saw it because of the image before\n",
    "activations[1:] "
   ]
  },
  {
   "cell_type": "markdown",
   "metadata": {},
   "source": [
    "If we focus our attention on the last array, we see this network performed pretty poorly. Although it did tell us we are looking at a 3 with around 76% confidence, it also told us that we were looking at a 6 with 99.9% confidence. So, as expected when using random weights and biases, this did not do well. If we continue by looking at the cost function:"
   ]
  },
  {
   "cell_type": "code",
   "execution_count": 43,
   "metadata": {},
   "outputs": [
    {
     "name": "stdout",
     "output_type": "stream",
     "text": [
      "[0. 0. 0. 1. 0. 0. 0. 0. 0. 0.]\n"
     ]
    },
    {
     "data": {
      "text/plain": [
       "np.float64(3.5844453233337132)"
      ]
     },
     "execution_count": 43,
     "metadata": {},
     "output_type": "execute_result"
    }
   ],
   "source": [
    "correct_digit = train_y[test_index]\n",
    "label = np.zeros(LAYER_HEIGHTS[-1])\n",
    "label[correct_digit] = 1\n",
    "print(label)\n",
    "\n",
    "# Cost\n",
    "sum((activations[-1] - label)**2)"
   ]
  },
  {
   "cell_type": "markdown",
   "metadata": {},
   "source": [
    "We see that our cost is pretty high."
   ]
  },
  {
   "cell_type": "markdown",
   "metadata": {},
   "source": [
    "Let us proceed by using these same random weights and biases, and find the average cost across all 50,000 entries of our training data. This will amount to doing exactly what we did before, only in a larger `for` loop."
   ]
  },
  {
   "cell_type": "code",
   "execution_count": 67,
   "metadata": {},
   "outputs": [
    {
     "name": "stdout",
     "output_type": "stream",
     "text": [
      "(50000, 784)\n"
     ]
    },
    {
     "name": "stderr",
     "output_type": "stream",
     "text": [
      "100%|██████████| 50000/50000 [00:02<00:00, 20145.60it/s]\n"
     ]
    }
   ],
   "source": [
    "from tqdm import tqdm\n",
    "\n",
    "print(train_x.shape)\n",
    "\n",
    "costs = np.zeros(train_x.shape[0]) # storing all individual costs here\n",
    "\n",
    "for i in tqdm(range(len(costs))):\n",
    "    activations = np.empty(len(LAYER_HEIGHTS), dtype=object)\n",
    "    # Feed-Forward\n",
    "    activations[0] = train_x[i]\n",
    "    for j in range(1, len(activations)):\n",
    "        activations[j] = expit(weights[j-1] @ activations[j-1] + biases[j-1])\n",
    "    \n",
    "    # Create \"correct final layer\"\n",
    "    correct_digit = train_y[i]\n",
    "    label = np.zeros(LAYER_HEIGHTS[-1])\n",
    "    label[correct_digit] = 1\n",
    "\n",
    "    # Cost for this prediction\n",
    "    costs[i] = sum((activations[-1] - label)**2)"
   ]
  },
  {
   "cell_type": "code",
   "execution_count": 69,
   "metadata": {},
   "outputs": [
    {
     "data": {
      "text/plain": [
       "np.float64(3.550455196767095)"
      ]
     },
     "execution_count": 69,
     "metadata": {},
     "output_type": "execute_result"
    }
   ],
   "source": [
    "# Total cost\n",
    "costs.mean()"
   ]
  }
 ],
 "metadata": {
  "kernelspec": {
   "display_name": "digit_recognizer",
   "language": "python",
   "name": "python3"
  },
  "language_info": {
   "codemirror_mode": {
    "name": "ipython",
    "version": 3
   },
   "file_extension": ".py",
   "mimetype": "text/x-python",
   "name": "python",
   "nbconvert_exporter": "python",
   "pygments_lexer": "ipython3",
   "version": "3.13.1"
  }
 },
 "nbformat": 4,
 "nbformat_minor": 2
}
